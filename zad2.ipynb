{
 "cells": [
  {
   "cell_type": "markdown",
   "id": "5276abfa",
   "metadata": {},
   "source": [
    "# Lab 4, Zad 2\n",
    "## Obraz binarny"
   ]
  },
  {
   "cell_type": "markdown",
   "id": "b11a795c",
   "metadata": {},
   "source": [
    "Celem ćwiczenia jest zobrazowanie działania algorytmu wyżarzania w kontekście różnych funkcji kosztu, aby zrozumieć, jak zmienia się jego skuteczność w zależności od charakterystyki problemu."
   ]
  },
  {
   "cell_type": "markdown",
   "id": "e8a0cd2c",
   "metadata": {},
   "source": [
    "# Importy"
   ]
  },
  {
   "cell_type": "code",
   "execution_count": 1,
   "id": "b99ea364",
   "metadata": {},
   "outputs": [],
   "source": [
    "import numpy as np\n",
    "import matplotlib.pyplot as plt\n",
    "import math\n",
    "import random\n",
    "from PIL import Image"
   ]
  },
  {
   "cell_type": "markdown",
   "id": "25f52e1b",
   "metadata": {},
   "source": [
    "# Funkcje przydatne do wizualizacji"
   ]
  },
  {
   "cell_type": "markdown",
   "id": "a24ace30",
   "metadata": {},
   "source": [
    "Funckcja `create_image_from_array` tworzy obraz z macierzy"
   ]
  },
  {
   "cell_type": "code",
   "execution_count": null,
   "id": "ba24d4d1",
   "metadata": {},
   "outputs": [],
   "source": [
    "def create_image_from_array(matrix):\n",
    "    # Pillow interpretuje 0 jako czarny, 255 jako biały w trybie 'L' (8-bit grayscale)\n",
    "    arr = (1 - matrix.astype(np.uint8)) * 255  # 1 -> 0 (czarny), 0 -> 255 (biały)\n",
    "    return Image.fromarray(arr, mode='L')\n"
   ]
  },
  {
   "cell_type": "markdown",
   "id": "356c1e14",
   "metadata": {},
   "source": [
    "Funkcja `draw_plot(array)`  rysuje obraz z macierzy"
   ]
  },
  {
   "cell_type": "code",
   "execution_count": null,
   "id": "8a88b017",
   "metadata": {},
   "outputs": [],
   "source": [
    "def draw_plot(matrix, path = None, folder_name = ''):\n",
    "    n = len(matrix)\n",
    "    img = Image.new('1', (n, n))  # Tworzymy obraz o wymiarach NxN, gdzie '1' oznacza obraz w odcieniach szarości\n",
    "\n",
    "    # Zmiana pikseli na podstawie tablicy\n",
    "    pixels = img.load()\n",
    "    for i in range(n):\n",
    "        for j in range(n):\n",
    "            pixels[j, i] = int(matrix[i, j])  # 0 to biały, 1 to czarny\n",
    "\n",
    "    # Zapisywanie obrazu\n",
    "    img.save(f\"zad2_images/images/{folder_name}/{path}.png\")"
   ]
  },
  {
   "cell_type": "markdown",
   "id": "397c7f1d",
   "metadata": {},
   "source": [
    "Funkcja `extend_gif(matrix,images)` dodaje kolejną klatke do gifu"
   ]
  },
  {
   "cell_type": "code",
   "execution_count": 269,
   "id": "8b373177",
   "metadata": {},
   "outputs": [],
   "source": [
    "def extend_gif(matrix,images):\n",
    "    n = len(matrix)\n",
    "    img = Image.new('1', (n, n))  # '1' oznacza obraz czarno-biały\n",
    "    pixels = img.load()\n",
    "    for i in range(n):\n",
    "        for j in range(n):\n",
    "            pixels[j, i] = int(matrix[i, j])\n",
    "            \n",
    "    images.append(img) # 0 to biały, 1 to czarny\n",
    "    return images"
   ]
  },
  {
   "cell_type": "markdown",
   "id": "8c9bd811",
   "metadata": {},
   "source": [
    "Funkcja `draw_linear_plot` rysuje wykres liniowy z tablicy energii"
   ]
  },
  {
   "cell_type": "code",
   "execution_count": null,
   "id": "579d0654",
   "metadata": {},
   "outputs": [],
   "source": [
    "def draw_linear_plot(energy_tab, file_name = None, folder_name = ''):\n",
    "    plt.figure()\n",
    "    plt.title(f\"Funkcja kosztu dla {file_name}\")\n",
    "    plt.xlabel('Liczba iterazcji')\n",
    "    plt.ylabel('Wyliczona funkcja')\n",
    "    plt.plot(energy_tab)\n",
    "    if file_name:\n",
    "        plt.savefig(f\"zad2_images/plots/{folder_name}/{file_name}.png\")\n",
    "    plt.close()"
   ]
  },
  {
   "cell_type": "markdown",
   "id": "e798e4f1",
   "metadata": {},
   "source": [
    "# Rozwiązanie"
   ]
  },
  {
   "cell_type": "markdown",
   "id": "50738da6",
   "metadata": {},
   "source": [
    " Do modelu wykorzystuje funkcje temperatury opratą o ciąg geometryczny"
   ]
  },
  {
   "cell_type": "code",
   "execution_count": null,
   "id": "b371f5f0",
   "metadata": {},
   "outputs": [],
   "source": [
    "def update_temp_geo(Temp, a, k ,temp_start):\n",
    "    return a * Temp"
   ]
  },
  {
   "cell_type": "markdown",
   "id": "17efcbb5",
   "metadata": {},
   "source": [
    "Funkcja prawdopodobieństwa z zadania 1"
   ]
  },
  {
   "cell_type": "code",
   "execution_count": 18,
   "id": "c0379f00",
   "metadata": {},
   "outputs": [],
   "source": [
    "def propability(diffrance, Temp):\n",
    "    if diffrance < 0:\n",
    "        return 1\n",
    "    return np.exp(-diffrance/ Temp)"
   ]
  },
  {
   "cell_type": "markdown",
   "id": "054d729c",
   "metadata": {},
   "source": [
    "Funkcja `get_random_points(all_cords, n)` zwaraca dwie tablice losowych kordynatów punktów w macierzy o wielkości `n`\n",
    "\n",
    "Funckja `get_all_cords(matrix)` zwraca tablice krotek indeksów tablicy"
   ]
  },
  {
   "cell_type": "code",
   "execution_count": null,
   "id": "d2cded6a",
   "metadata": {},
   "outputs": [],
   "source": [
    "def get_random_points(all_cords, n):\n",
    "        return random.sample(all_cords, n), random.sample(all_cords, n)\n",
    "\n",
    "def get_all_cords(matrix):\n",
    "        return [(x, y) for x in range(len(matrix)) for y in range(len(matrix))]"
   ]
  },
  {
   "cell_type": "markdown",
   "id": "5b64e04f",
   "metadata": {},
   "source": [
    "Funkcja `calc_total_energy` oblicza całkowitą energię układu na podstawie podanej funkcji `calc_for_point`, która definiuje sposób oceny pojedynczej komórki. Dla każdej komórki w macierzy wynik tej funkcji jest sumowany, tworząc globalną wartość energii.\n",
    "\n",
    "Funkcja `calc_diff_energy` zwraca różnicę w energii układu wynikającą z zamiany miejscami dwóch punktów: (x1, y1) i (x2, y2). Wykorzystuje przy tym tę samą funkcję `calc_for_point`, by oszacować zmianę lokalnej energii przed i po zamianie.\n",
    "\n",
    "Obie funkcje pełnią rolę uniwersalnego interfejsu, który ułatwia testowanie różnych funkcji optymalizujących bez konieczności modyfikowania głównej logiki algorytmu."
   ]
  },
  {
   "cell_type": "code",
   "execution_count": 212,
   "id": "8ef4e749",
   "metadata": {},
   "outputs": [],
   "source": [
    "def calc_total_energy(M, calc_for_point):\n",
    "    n = len(M)\n",
    "    total = 0\n",
    "    for i in range(n):\n",
    "        for j in range(n):\n",
    "            total += calc_for_point(M, i, j, M[i][j])\n",
    "    return total // 2  # unikamy podwójnego liczenia\n",
    "\n",
    "def calc_diff_energy(M, x1, y1, x2, y2, calc_for_point):\n",
    "    sum = 0\n",
    "    sum -= calc_for_point(M, x1, y1, M[x1][y1])\n",
    "    sum -= calc_for_point(M, x2, y2, M[x2][y2])\n",
    "    sum += calc_for_point(M, x1, y1, M[x2][y2])\n",
    "    sum += calc_for_point(M, x2, y2, M[x1][y1])\n",
    "    return sum"
   ]
  },
  {
   "cell_type": "markdown",
   "id": "eb550588",
   "metadata": {},
   "source": [
    "## Główna funkcja "
   ]
  },
  {
   "cell_type": "markdown",
   "id": "853ee1d1",
   "metadata": {},
   "source": [
    "Funkcja `create_cristal` realizuje proces optymalizacji przy użyciu algorytmu symulowanego wyżarzania (simulated annealing) na macierzy binarnej (z wartościami 0 i 1), której celem jest minimalizacja zadanej funkcji celu dla pojedynczych komórek (fun_to_optymalize). Dodatkowo może tworzyć animowany GIF ilustrujący przebieg optymalizacji.\n",
    "\n",
    "Argumenty:\n",
    "- matrix (np.ndarray): Macierz binarna (0 i 1), która reprezentuje stan układu.\n",
    "\n",
    "- fun_to_optymalize (callable): Funkcja celu dla pojedynczej komórki, wykorzystywana do obliczenia energii układu.\n",
    "\n",
    "- temp_start (float): Początkowa temperatura procesu wyżarzania.\n",
    "\n",
    "- loop_limit (int): Liczba iteracji algorytmu.\n",
    "\n",
    "- min_heat (float) (domyślnie: 1e-2): Minimalna temperatura, poniżej której proces zostaje zatrzymany.\n",
    "\n",
    "- fun_change_par (float) (domyślnie: 0.99993): Współczynnik zmniejszania temperatury.\n",
    "\n",
    "- fun_temp_change (callable) (domyślnie: update_temp_geo): Funkcja aktualizująca temperaturę (np. wykładnicze chłodzenie).\n",
    "\n",
    "- gif_name (str | None): Nazwa pliku GIF-a, jeśli animacja ma zostać zapisana.\n",
    "\n",
    "Działanie:\n",
    "- Inicjalizuje temperaturę, energię układu i historię wartości funkcji celu.\n",
    "\n",
    "- W każdej iteracji losuje parę punktów 0 i 1, oblicza różnicę energii i z prawdopodobieństwem zależnym od temperatury decyduje o akceptacji zmiany.\n",
    "\n",
    "- Jeśli zostanie osiągnięte nowe najlepsze rozwiązanie, zapisuje je.\n",
    "\n",
    "- Co pewną liczbę iteracji (100 równomiernie rozłożonych klatek) dodaje stan macierzy do listy klatek GIF-a.\n",
    "\n",
    "- Aktualizuje temperaturę zgodnie z podaną funkcją.\n",
    "\n",
    "- Na końcu zapisuje animację GIF i zwraca końcową macierz, historię energii oraz najlepszą wartość funkcji celu.\n",
    "\n",
    "Zwraca:\n",
    "- matrix (np.ndarray): Zoptymalizowana macierz.\n",
    "\n",
    "- optymalized_tab (list[float]): Historia wartości funkcji celu.\n",
    "\n",
    "- best_val (float): Najlepsza uzyskana wartość funkcji celu."
   ]
  },
  {
   "cell_type": "markdown",
   "id": "2c063e41",
   "metadata": {},
   "source": [
    "Następny stan jest uzyskiwany poprzez zamianę co najmniej ${2n}/100$ punktów między sobą. Proces ten zależy również od temperatury – im wyższa temperatura, tym więcej punktów zmienia się jednocześnie. Taki sposób modyfikacji pozytywnie wpływa na dynamikę tworzenia rysunku, wprowadzając pewną zmienność przy minimalnym wpływie na jego dokładność. Tego typu fluktuacje dobrze odwzorowują rzeczywiste procesy krystalizacji, gdzie asymetrie, niedoskonałości i inne nieregularności są nieodłączną częścią struktury.\n",
    "\n",
    "Dodatkowo dla przyspieszenia generowania obrazów nie zapisuje najlepszego stanu. Zwracam ostatni stan jaki był w pętli. Przyspieszyło to algorytm kilkukrotnie"
   ]
  },
  {
   "cell_type": "code",
   "execution_count": null,
   "id": "5284bf91",
   "metadata": {},
   "outputs": [],
   "source": [
    "def create_cristal(matrix,\n",
    "                 fun_to_optymalize,\n",
    "                 temp_start,\n",
    "                 loop_limit,\n",
    "                 min_heat=1e-2,\n",
    "                 fun_change_par=0.99993,\n",
    "                 fun_temp_change=update_temp_geo,\n",
    "                 gif_name=None,\n",
    "                ):\n",
    "    \n",
    "    # biore zawsze 100 klatek\n",
    "    checkpoints_for_gif = np.linspace(0, loop_limit, 100)\n",
    "    checkpoints_for_gif = np.round(checkpoints_for_gif).astype(int)\n",
    "    eps = 10**(-8)\n",
    "    temp = temp_start\n",
    "    all_cords = get_all_cords(matrix)\n",
    "    best_val = calc_total_energy(matrix,fun_to_optymalize)  # Obliczenie początkowej długości trasy\n",
    "    prev_val = best_val# Zapamiętanie najlepszego dotąd rozwiązania\n",
    "    optymalized_tab = [best_val]  # Historia długości tras\n",
    "    n = len(matrix)\n",
    "    # Przygotowanie listy na obrazy do animacji\n",
    "    if gif_name:\n",
    "        gif_filename = f\"zad2_images/gifs/{gif_name}.gif\"\n",
    "        images = []\n",
    "\n",
    "    for i in range(loop_limit):\n",
    "        if temp < min_heat:\n",
    "            # Zatrzymanie, jeśli temperatura spadła poniżej progu\n",
    "            break\n",
    "            \n",
    "        # Zamiana dwóch losowych punktów\n",
    "        points1_choice, points2_choice = get_random_points(all_cords, max(int(n//100),int(n//100*(temp+1))))\n",
    "        diff =0\n",
    "        # Obliczenie zmiany długości trasy po zamianie\n",
    "        for point1,point2 in zip(points1_choice,points2_choice):\n",
    "            diff += calc_diff_energy(matrix, point1[0], point1[1], point2[0], point2[1],fun_to_optymalize)\n",
    "        \n",
    "        # diff = calc_diff_fun(matrix, i_swap1, j_swap1, i_swap2, j_swap2)\n",
    "        new_val = diff + prev_val\n",
    "\n",
    "        # Akceptacja zmiany z prawdopodobieństwem zależnym od temperatury\n",
    "        if np.random.uniform(0, 1) < propability(diff, temp):\n",
    "            for point1,point2 in zip(points1_choice,points2_choice):\n",
    "                i_swap1,j_swap1 = point1\n",
    "                i_swap2,j_swap2 = point2\n",
    "                matrix[i_swap1][j_swap1], matrix[i_swap2][j_swap2] = matrix[i_swap2][j_swap2], matrix[i_swap1][j_swap1]\n",
    "            if new_val - best_val < -eps:\n",
    "                # Aktualizacja najlepszego rozwiązania\n",
    "                best_val = new_val\n",
    "                \n",
    "            prev_val = new_val\n",
    "        if i in checkpoints_for_gif:\n",
    "            if gif_name:\n",
    "                # Dodanie klatki do GIF-a\n",
    "                images = extend_gif(matrix,images)\n",
    "        optymalized_tab.append(prev_val)\n",
    "\n",
    "        # Aktualizacja temperatury zgodnie z wybraną funkcją\n",
    "        temp = fun_temp_change(temp, fun_change_par, i, temp_start)\n",
    "\n",
    "    # Zapisanie animacji GIF, jeśli podano nazwę pliku\n",
    "    if gif_name:\n",
    "        images[0].save(gif_filename, save_all=True, append_images=images[1:], duration=100, loop=0)\n",
    "\n",
    "    return matrix, optymalized_tab, best_val"
   ]
  },
  {
   "cell_type": "markdown",
   "id": "d84c3b73",
   "metadata": {},
   "source": [
    "## Wizualizacja różnorodnych funkcji optymalizujących"
   ]
  },
  {
   "cell_type": "markdown",
   "id": "56439cb7",
   "metadata": {},
   "source": [
    "Utworzone gify, obrazy oraz wykresy funkcji kosztu znajdują się w stosownym folderze o nazwie `zad2_images` posegregowane na odpowidnie rodzaje. W plikach jest łącznie 480 gifów, tyle samo obrazów i wykresów."
   ]
  },
  {
   "cell_type": "markdown",
   "id": "90aac417",
   "metadata": {},
   "source": [
    "Uwaga:\n",
    "\n",
    "Przetestowałem wcześniej wszystkie funkcje spadku temperatury z pierwszego zadania. Po ich analizie doszedłem do wniosku, że różnice między nimi są niewielkie, a ewentualne rozbieżności jedynie zwiększają poziom szumu. W związku z tym zdecydowałem się wykorzystać funkcję wykładniczą jako podstawową funkcję w wszystkich dalszych wizualizacjach.\n",
    "\n",
    "Dodatkowo, w celu uzyskania bardziej przejrzystego porównania warunków żarzenia, zdecydowałem się ograniczyć manipulacje parametrami jedynie do temperatury początkowej. Parametr ten dobrze obrazuje wpływ większej zmienności na ogólny przebieg procesu."
   ]
  },
  {
   "cell_type": "markdown",
   "id": "b71cd6ed",
   "metadata": {},
   "source": [
    "W celu zautomatyzowania procesu tworzenia obrazów, zaimplementowałem funkcję `implement_fun_for_matrix`, która generuje obrazy na podstawie różnych parametrów: prawdopodobieństwa pojawienia się czarnego punktu (`t_delta`), dopuszczalnej liczby iteracji (`t_iter`), rozmiaru obrazu (`t_size`) oraz początkowej temperatury (`t_start_temp`). Funkcja ta pozwala na eksperymentowanie z różnymi ustawieniami, co umożliwia uzyskanie obrazów o różnych cechach w zależności od zadanych parametrów."
   ]
  },
  {
   "cell_type": "code",
   "execution_count": null,
   "id": "7fa3d250",
   "metadata": {},
   "outputs": [],
   "source": [
    "def implement_fun_for_matrix(fun_to_optymalize, name):\n",
    "    t_delta = [0.1,0.3,0.4,0.6]\n",
    "    t_iter = [100000, 500000]\n",
    "    t_size = [128,256,512,1024]\n",
    "    t_start_temp = [1, 30]\n",
    "    for iter in t_iter:\n",
    "            for delta in t_delta:\n",
    "                for size in t_size:\n",
    "                    for start_temp in t_start_temp:\n",
    "                        if start_temp == 30 and iter == 500000: continue\n",
    "                        matrix, t, _ = create_cristal(np.random.choice([0, 1], size=(size, size), p=[delta, 1-delta]) ,\n",
    "                                        fun_to_optymalize,\n",
    "                                        start_temp,\n",
    "                                        iter,\n",
    "                                        min_heat=1e-18,\n",
    "                                        fun_change_par=0.99999,\n",
    "                                        \n",
    "                                        gif_name=f\"{name}/{name}_{size}x{size}_{delta}_{iter}t{start_temp}\")\n",
    "                        draw_linear_plot(t,f\"{name}_{size}x{size}_{delta}_{iter}t{start_temp}\",name)\n",
    "                        draw_plot(matrix,f\"{name}_{size}x{size}_{delta}_{iter}t{start_temp}\",name)\n",
    "       "
   ]
  },
  {
   "cell_type": "markdown",
   "id": "54685070",
   "metadata": {},
   "source": [
    "Oznaczenie nazw plików:\n",
    "- Pierwszy człon określa nazwę funkcji do optymalizacji\n",
    "- Drugi określa wielkość obrazu\n",
    "- Trzeci definiuje prawdopodobieństwo pojawienia się czarnego punktu podczas generowania obrazu\n",
    "- Czwarty pokazuje liczbe przeprowadzonych iteracji\n",
    "- Litera rozdzielająca \"t\"\n",
    "- Ostatni człon to temperatura początkowa"
   ]
  },
  {
   "cell_type": "markdown",
   "id": "745b5b99",
   "metadata": {},
   "source": [
    "## Implementacje funkcji kosztu"
   ]
  },
  {
   "cell_type": "markdown",
   "id": "10da99c0",
   "metadata": {},
   "source": [
    "## Funckje bazujące na sąsiedztwie danego punktu"
   ]
  },
  {
   "cell_type": "markdown",
   "id": "7e803236",
   "metadata": {},
   "source": [
    "### 1. 4-sąsiedztwo"
   ]
  },
  {
   "cell_type": "markdown",
   "id": "6709b314",
   "metadata": {},
   "source": [
    "Ta funkcja kara za niegrupowanie się punktów na mapie. Swoim zasięgiem obejmuje tylko tereny bezpośrednio przyległe do danego punktu"
   ]
  },
  {
   "cell_type": "code",
   "execution_count": null,
   "id": "74867029",
   "metadata": {},
   "outputs": [],
   "source": [
    "def four_neighborhood_cell_val(M, x, y, val):\n",
    "    n = len(M)\n",
    "    total = 0\n",
    "    for d in [-1, 1]:\n",
    "        nx, ny = x + d, y + d\n",
    "        if 0 <= nx < n and 0 <= ny < n:\n",
    "            if M[nx][y] != val:\n",
    "                total += 1\n",
    "            if M[x][ny] != val:\n",
    "                total += 1 \n",
    "    return total"
   ]
  },
  {
   "cell_type": "markdown",
   "id": "6ebb84c1",
   "metadata": {},
   "source": [
    "Tworzenie gifów i obrazów"
   ]
  },
  {
   "cell_type": "code",
   "execution_count": null,
   "id": "06a30f0b",
   "metadata": {},
   "outputs": [],
   "source": [
    "implement_fun_for_matrix(four_neighborhood_cell_val, \"4_neighborhood\")"
   ]
  },
  {
   "cell_type": "markdown",
   "id": "e967d808",
   "metadata": {},
   "source": [
    "Wizualizacje"
   ]
  },
  {
   "cell_type": "markdown",
   "id": "63c70be3",
   "metadata": {},
   "source": [
    "$δ = $ 0.4, iter = 500000, temp_start = 1"
   ]
  },
  {
   "cell_type": "markdown",
   "id": "e2945a50",
   "metadata": {},
   "source": [
    "![alt text](zad2_images/images/4_neighborhood/4_neighborhood_128x128_0.4_500000t1.png.png)"
   ]
  },
  {
   "cell_type": "markdown",
   "id": "2de1742b",
   "metadata": {},
   "source": [
    "size = 256, $δ = $ 0.6, iter = 500000, temp_start = 1"
   ]
  },
  {
   "cell_type": "markdown",
   "id": "2f4ecb2f",
   "metadata": {},
   "source": [
    "![alt text](zad2_images/images/4_neighborhood/4_neighborhood_256x256_0.6_500000t1.png.png)"
   ]
  },
  {
   "cell_type": "markdown",
   "id": "df2a8c3e",
   "metadata": {},
   "source": [
    "size = 1024, $δ = $ 0.3, iter = 500000, temp_start = 1"
   ]
  },
  {
   "cell_type": "markdown",
   "id": "a4a61a1f",
   "metadata": {},
   "source": [
    "![alt text](zad2_images/images/4_neighborhood/4_neighborhood_1024x1024_0.3_500000t1.png.png)"
   ]
  },
  {
   "cell_type": "markdown",
   "id": "38b880f5",
   "metadata": {},
   "source": [
    "Czarne punkty wykazują wyraźną tendencję do formowania skupisk, które przybierają postać mniejszych lub większych struktur"
   ]
  },
  {
   "cell_type": "markdown",
   "id": "1e1798f0",
   "metadata": {},
   "source": [
    "### 2. 8-sąsiedztwo"
   ]
  },
  {
   "cell_type": "markdown",
   "id": "1688491f",
   "metadata": {},
   "source": [
    "Ta funkcja penalizuje brak grupowania punktów na mapie. Jest zbliżona do koncepcji 4-sąsiedztwa, jednak w odróżnieniu od niego, jej zasięg obejmuje obszary oddalone o jedną jednostkę w metryce maksimum."
   ]
  },
  {
   "cell_type": "code",
   "execution_count": null,
   "id": "ffc6796c",
   "metadata": {},
   "outputs": [],
   "source": [
    "def eight_neighborhood_cell_val(M, x, y, val):\n",
    "    n = len(M)\n",
    "    total = 0\n",
    "    for dx in [-1, 0, 1]:\n",
    "        for dy in [-1, 0, 1]:\n",
    "            if dx == 0 and dy == 0:\n",
    "                continue  # pomijamy środek\n",
    "            nx, ny = x + dx, y + dy\n",
    "            if 0 <= nx < n and 0 <= ny < n:\n",
    "                if M[nx][ny] != val:\n",
    "                    total += 1\n",
    "    return total\n"
   ]
  },
  {
   "cell_type": "markdown",
   "id": "fc1580e6",
   "metadata": {},
   "source": [
    "Tworzenie gifów i obrazów"
   ]
  },
  {
   "cell_type": "code",
   "execution_count": null,
   "id": "74c7f545",
   "metadata": {},
   "outputs": [],
   "source": [
    "implement_fun_for_matrix(eight_neighborhood_cell_val, \"8_neighborhood\")"
   ]
  },
  {
   "cell_type": "markdown",
   "id": "86d091b1",
   "metadata": {},
   "source": [
    "Wizualizacje i gify"
   ]
  },
  {
   "cell_type": "markdown",
   "id": "2a1e76e1",
   "metadata": {},
   "source": [
    "size = 128, $δ = $ 0.6, iter = 500000, temp_start = 1"
   ]
  },
  {
   "cell_type": "markdown",
   "id": "da3bc63c",
   "metadata": {},
   "source": [
    "![alt text](zad2_images/images/8_neighborhood/8_neighborhood_128x128_0.6_500000t1.png.png)"
   ]
  },
  {
   "cell_type": "markdown",
   "id": "205cb319",
   "metadata": {},
   "source": [
    "size = 512, $δ = $ 0.6, iter = 500000, temp_start = 1"
   ]
  },
  {
   "cell_type": "markdown",
   "id": "53660241",
   "metadata": {},
   "source": [
    "![alt text](zad2_images/images/8_neighborhood/8_neighborhood_512x512_0.6_500000t1.png.png)"
   ]
  },
  {
   "cell_type": "markdown",
   "id": "53c30766",
   "metadata": {},
   "source": [
    "size = 1024, $δ = $ 0.6, iter = 500000, temp_start = 1"
   ]
  },
  {
   "cell_type": "markdown",
   "id": "f42943a9",
   "metadata": {},
   "source": [
    "![alt text](zad2_images/images/8_neighborhood/8_neighborhood_1024x1024_0.6_500000t1.png.png)"
   ]
  },
  {
   "cell_type": "markdown",
   "id": "73365a19",
   "metadata": {},
   "source": [
    "Zaobserwowane skupiska punktów są większe w porównaniu do 4-sąsiedztwa, co wynika z faktu, że premiowane jest nie tylko bezpośrednie przyleganie, ale także szersze sąsiedztwo, obejmujące punkty oddalone o jedną jednostkę w metryce maksimum."
   ]
  },
  {
   "cell_type": "markdown",
   "id": "9dfdd9c5",
   "metadata": {},
   "source": [
    "## 3. 16-sąsiedztwo"
   ]
  },
  {
   "cell_type": "markdown",
   "id": "68361b0a",
   "metadata": {},
   "source": [
    "Ta funkcja penalizuje brak grupowania punktów na mapie. Jest podobna do 4-sąsiedztwa, ale jej zasięg obejmuje obszary oddalone o dwie jednostki w metryce manhatańskiej, co pozwala uwzględnić szersze sąsiedztwo punktów."
   ]
  },
  {
   "cell_type": "code",
   "execution_count": 282,
   "id": "1755b04e",
   "metadata": {},
   "outputs": [],
   "source": [
    "def sixteen_neighborhood_cell_val(M, x, y, val):\n",
    "    n = len(M)\n",
    "    total = 0\n",
    "    # Rozważamy 16 sąsiednich komórek wokół (x, y)\n",
    "    for dx in [-2, -1, 0, 1, 2]:  # Umożliwiamy przesunięcia o 2 jednostki\n",
    "        for dy in [-2, -1, 0, 1, 2]:\n",
    "            if abs(dx) == 2 and abs(dy) == 2:continue\n",
    "            if dx == 0 and dy == 0:\n",
    "                continue  # Pomijamy środek\n",
    "            nx, ny = x + dx, y + dy\n",
    "            if 0 <= nx < n and 0 <= ny < n:  # Sprawdzamy, czy sąsiedzi mieszczą się w obrębie macierzy\n",
    "                if M[nx][ny] != val:  # Sprawdzamy, czy różni się od wartości 'val'\n",
    "                    total += 1\n",
    "    return total"
   ]
  },
  {
   "cell_type": "markdown",
   "id": "696050ac",
   "metadata": {},
   "source": [
    "Tworzenie gifów i obrazów"
   ]
  },
  {
   "cell_type": "code",
   "execution_count": null,
   "id": "7b1fc396",
   "metadata": {},
   "outputs": [],
   "source": [
    "implement_fun_for_matrix(sixteen_neighborhood_cell_val, \"16_neighborhood\")"
   ]
  },
  {
   "cell_type": "markdown",
   "id": "68d01886",
   "metadata": {},
   "source": [
    "size = 128, $δ = $ 0.6, iter = 100000, temp_start = 1"
   ]
  },
  {
   "cell_type": "markdown",
   "id": "e2d4b325",
   "metadata": {},
   "source": [
    "![alt text](zad2_images/images/16_neighborhood/16_neighborhood_128x128_0.6_100000t1.png.png)"
   ]
  },
  {
   "cell_type": "markdown",
   "id": "717b58f0",
   "metadata": {},
   "source": [
    "size = 256, $δ = $ 0.4, iter = 500000, temp_start = 1"
   ]
  },
  {
   "cell_type": "markdown",
   "id": "9bb6fb68",
   "metadata": {},
   "source": [
    "![alt text](zad2_images/images/16_neighborhood/16_neighborhood_256x256_0.4_500000t1.png.png)"
   ]
  },
  {
   "cell_type": "markdown",
   "id": "6e5f7aa6",
   "metadata": {},
   "source": [
    "size = 1024, $δ = $ 0.3, iter = 500000, temp_start = 1"
   ]
  },
  {
   "cell_type": "markdown",
   "id": "dec56f4b",
   "metadata": {},
   "source": [
    "![alt text](zad2_images/images/16_neighborhood/16_neighborhood_1024x1024_0.3_500000t1.png.png)"
   ]
  },
  {
   "cell_type": "markdown",
   "id": "bea8f3bf",
   "metadata": {},
   "source": [
    "Dla grup tworzonych przez tę funkcję obserwujemy wyraźną nieregularność na ich brzegach. Wiele punktów nie przylega bezpośrednio do innych, co prowadzi do interesującego efektu \"poszarpania\" na krawędziach grup. Jest to wynikiem zastosowanego kryterium, w którym punkt uznawany za „dobry” może znajdować się również w odległości dwóch pól, co wpływa na kształt i strukturę tych grup."
   ]
  },
  {
   "cell_type": "markdown",
   "id": "f4cf64fe",
   "metadata": {},
   "source": [
    "## 4. Vertical"
   ]
  },
  {
   "cell_type": "markdown",
   "id": "38310851",
   "metadata": {},
   "source": [
    "Ta funkcja nakłada karę za obecność sąsiedztwa w kierunku pionowym."
   ]
  },
  {
   "cell_type": "code",
   "execution_count": 284,
   "id": "59244f61",
   "metadata": {},
   "outputs": [],
   "source": [
    "# kolory lubią być koło swoich\n",
    "def vertical_cell_val(M, x, y, val):\n",
    "    n = len(M)\n",
    "    total = 0\n",
    "    for d in [-1, 1]:\n",
    "        nx = x + d\n",
    "        if 0 <= nx < n:\n",
    "            if M[nx][y] != val:\n",
    "                total += 1\n",
    "    return total\n"
   ]
  },
  {
   "cell_type": "markdown",
   "id": "f3d98255",
   "metadata": {},
   "source": [
    "Wizualizacje i gify"
   ]
  },
  {
   "cell_type": "code",
   "execution_count": null,
   "id": "b4027c73",
   "metadata": {},
   "outputs": [],
   "source": [
    "implement_fun_for_matrix(vertical_cell_val, \"vertical\")"
   ]
  },
  {
   "cell_type": "markdown",
   "id": "9ca67df9",
   "metadata": {},
   "source": [
    "size = 128, $δ = $ 0.3, iter = 500000, temp_start = 1"
   ]
  },
  {
   "cell_type": "markdown",
   "id": "98f30d93",
   "metadata": {},
   "source": [
    "![alt text](zad2_images/images/vertical/vertical_128x128_0.3_500000t1.png.png)"
   ]
  },
  {
   "cell_type": "markdown",
   "id": "9eba316c",
   "metadata": {},
   "source": [
    "size = 256, $δ = $ 0.4, iter = 500000, temp_start = 1"
   ]
  },
  {
   "cell_type": "markdown",
   "id": "ae0644cf",
   "metadata": {},
   "source": [
    "![alt text](zad2_images/images/vertical/vertical_256x256_0.4_500000t1.png.png)"
   ]
  },
  {
   "cell_type": "markdown",
   "id": "4bdbe9fe",
   "metadata": {},
   "source": [
    "size = 512, $δ = $ 0.1, iter = 500000, temp_start = 1"
   ]
  },
  {
   "cell_type": "markdown",
   "id": "47b4052d",
   "metadata": {},
   "source": [
    "![alt text](zad2_images/images/vertical/vertical_512x512_0.1_500000t1.png.png)"
   ]
  },
  {
   "cell_type": "markdown",
   "id": "5aa9cf41",
   "metadata": {},
   "source": [
    "Kryształy formują strukturę przypominającą drewno, jednak w przypadku większych obrazów ten efekt staje się coraz mniej wyraźny. Zamiast tego, dostrzegamy jedynie pojedyncze obszary, które zostały zorganizowane w sposób zwertykalizowany."
   ]
  },
  {
   "cell_type": "markdown",
   "id": "add3dc16",
   "metadata": {},
   "source": [
    "## 5. Szachownica"
   ]
  },
  {
   "cell_type": "markdown",
   "id": "48c1a0e2",
   "metadata": {},
   "source": [
    "Funkcja ta nakłada karę za obecność sąsiadów o różnych kolorach po przekątnej. Jej celem jest wymuszenie struktury, która przypomina klasyczną szachownicę, gdzie sąsiadujące pola mają naprzemiennie różne kolory, zarówno w poziomie, jak i w pionie, z wyraźnie zaznaczoną regularnością w układzie."
   ]
  },
  {
   "cell_type": "code",
   "execution_count": 292,
   "id": "2bc07fea",
   "metadata": {},
   "outputs": [],
   "source": [
    "# kolory lubią być koło swoich\n",
    "def small_chess_cell_val(M, x, y, val):\n",
    "    n = len(M)\n",
    "    total = 0\n",
    "    for dx in [-1, 0, 1]:\n",
    "        for dy in [-1, 0, 1]:\n",
    "            if dx == 0 or dy == 0:\n",
    "                continue  # pomijamy środek\n",
    "            nx, ny = x + dx, y + dy\n",
    "            if 0 <= nx < n and 0 <= ny < n:\n",
    "                if M[nx][ny] != val:\n",
    "                    total += 1\n",
    "    return total\n"
   ]
  },
  {
   "cell_type": "markdown",
   "id": "2ba7299e",
   "metadata": {},
   "source": [
    "Wizualizacja i gify"
   ]
  },
  {
   "cell_type": "code",
   "execution_count": null,
   "id": "6bca307d",
   "metadata": {},
   "outputs": [],
   "source": [
    "implement_fun_for_matrix(small_chess_cell_val, \"chess\")"
   ]
  },
  {
   "cell_type": "markdown",
   "id": "9158b19d",
   "metadata": {},
   "source": [
    "size = 128, $δ = $ 0.6, iter = 500000, temp_start = 1"
   ]
  },
  {
   "cell_type": "markdown",
   "id": "cb6f8c8b",
   "metadata": {},
   "source": [
    "![alt text](zad2_images/images/chess/chess_128x128_0.6_500000t1.png.png)"
   ]
  },
  {
   "cell_type": "markdown",
   "id": "4762ba0d",
   "metadata": {},
   "source": [
    "size = 128, $δ = $ 0.3, iter = 500000, temp_start = 1"
   ]
  },
  {
   "cell_type": "markdown",
   "id": "42419fe1",
   "metadata": {},
   "source": [
    "![alt text](zad2_images/images/chess/chess_128x128_0.3_500000t1.png.png)"
   ]
  },
  {
   "cell_type": "markdown",
   "id": "37546479",
   "metadata": {},
   "source": [
    "size = 256, $δ = $ 0.6, iter = 500000, temp_start = 1"
   ]
  },
  {
   "cell_type": "markdown",
   "id": "90790bcb",
   "metadata": {},
   "source": [
    "![alt text](zad2_images/images/chess/chess_256x256_0.6_500000t1.png.png)"
   ]
  },
  {
   "cell_type": "markdown",
   "id": "55121d53",
   "metadata": {},
   "source": [
    "size = 512, $δ = $ 0.4, iter = 500000, temp_start = 1"
   ]
  },
  {
   "cell_type": "markdown",
   "id": "0a076328",
   "metadata": {},
   "source": [
    "![alt text](zad2_images/images/chess/chess_512x512_0.4_500000t1.png.png)"
   ]
  },
  {
   "cell_type": "markdown",
   "id": "6a7d0eff",
   "metadata": {},
   "source": [
    "Co interesujące, wygenerowane obrazy nie tyle przywodzą na myśl klasyczną szachownicę, ile raczej przypominają mapę topograficzną. Wydaje się, że obraz składa się z trzech dominujących kolorów: czarnego, białego i szarego. W rzeczywistości, szary kolor powstaje w wyniku interakcji białego i czarnego, tworząc wzór przypominający szachownicę. Dodając do tego tendencję do grupowania obiektów, wynikającą z funkcji kosztu, otrzymujemy estetyczny, „trójkolorowy” obraz o wyraźnie zdefiniowanych strukturach."
   ]
  },
  {
   "cell_type": "markdown",
   "id": "ae2a2084",
   "metadata": {},
   "source": [
    "## 6. Labirynt"
   ]
  },
  {
   "cell_type": "markdown",
   "id": "9f4f9f3c",
   "metadata": {},
   "source": [
    "Funkcja ta wprowadza restrykcje, które wymagają, aby punkt najbliżej przekątnej miał inny kolor niż punkt znajdujący się o jedno pole dalej, który powinien być tego samego koloru. Tego rodzaju zasady prowadzą do powstania struktury przypominającej labirynt, w której kolory tworzą złożoną sieć, przypominającą ścieżki i ściany w labiryncie."
   ]
  },
  {
   "cell_type": "code",
   "execution_count": 288,
   "id": "8228f9c4",
   "metadata": {},
   "outputs": [],
   "source": [
    "# kolory lubią być koło swoich\n",
    "def lab_cell_val(M, x, y, val):\n",
    "    n = len(M)\n",
    "    total = 0\n",
    "    for dx in [-2,-1, 0, 1,2]:\n",
    "        for dy in [-2,-1, 0, 1,2]:\n",
    "            if (dx == 0 and dy == 0) or abs(dx) != abs(dy):\n",
    "                continue  # pomijamy środek\n",
    "            nx, ny = x + dx, y + dy\n",
    "            if 0 <= nx < n and 0 <= ny < n:\n",
    "                if M[nx][ny] != val:\n",
    "                    if abs(dx) == 1:\n",
    "                        total -= 1\n",
    "                    else:\n",
    "                        total += 1\n",
    "    return total"
   ]
  },
  {
   "cell_type": "markdown",
   "id": "bf1b6bff",
   "metadata": {},
   "source": [
    "Wizualizacje i gify"
   ]
  },
  {
   "cell_type": "code",
   "execution_count": 289,
   "id": "fcc8b5cd",
   "metadata": {},
   "outputs": [],
   "source": [
    "implement_fun_for_matrix(lab_cell_val, \"lab\")"
   ]
  },
  {
   "cell_type": "markdown",
   "id": "a017295a",
   "metadata": {},
   "source": [
    "size = 128, $δ = $ 0.6, iter = 500000, temp_start = 1"
   ]
  },
  {
   "cell_type": "markdown",
   "id": "710087e9",
   "metadata": {},
   "source": [
    "![alt text](zad2_images/images/lab/lab_128x128_0.6_500000t1.png.png)"
   ]
  },
  {
   "cell_type": "markdown",
   "id": "550062b4",
   "metadata": {},
   "source": [
    "size = 256, $δ = $ 0.4, iter = 500000, temp_start = 1"
   ]
  },
  {
   "cell_type": "markdown",
   "id": "90dd6887",
   "metadata": {},
   "source": [
    "![alt text](zad2_images/images/lab/lab_256x256_0.4_500000t1.png.png)"
   ]
  },
  {
   "cell_type": "markdown",
   "id": "a1aab955",
   "metadata": {},
   "source": [
    "size = 1024, $δ = $ 0.4, iter = 500000, temp_start = 1"
   ]
  },
  {
   "cell_type": "markdown",
   "id": "74d1e414",
   "metadata": {},
   "source": [
    "![alt text](zad2_images/images/lab/lab_1024x1024_0.4_500000t1.png.png)"
   ]
  },
  {
   "cell_type": "markdown",
   "id": "d86f8c2b",
   "metadata": {},
   "source": [
    "Jak widzimy, nawet dla dużych obrazów widać wyraźnie ta strukturę. Jest ona wizualnie ciekawa"
   ]
  },
  {
   "cell_type": "markdown",
   "id": "25acc97d",
   "metadata": {},
   "source": [
    "## Funkcje bazujące na ułożeniu punktu na mapie"
   ]
  },
  {
   "cell_type": "markdown",
   "id": "0abf19cd",
   "metadata": {},
   "source": [
    "### 7. Center"
   ]
  },
  {
   "cell_type": "markdown",
   "id": "96e51a0e",
   "metadata": {},
   "source": [
    "Wprowadzam prostą zasadę, zgodnie z którą punkty czarne mają tendencję do unikania centralnych obszarów. Funkcja kosztu jest proporcjonalna do odległości od środka, penalizując umiejscowienie czarnych punktów zbliżonych do centrum, co w efekcie prowadzi do ich rozmieszczania się na obrzeżach."
   ]
  },
  {
   "cell_type": "code",
   "execution_count": 290,
   "id": "ff8f4120",
   "metadata": {},
   "outputs": [],
   "source": [
    "# kolory lubią być koło swoich\n",
    "def center_ceil_val(M, x, y, val):\n",
    "    n = len(M)\n",
    "    sr = n//2\n",
    "    return math.sqrt((x-sr)**2 + (y-sr)**2) if val == 1 else 0\n"
   ]
  },
  {
   "cell_type": "markdown",
   "id": "12e89d16",
   "metadata": {},
   "source": [
    "Wizualizacje i gify"
   ]
  },
  {
   "cell_type": "code",
   "execution_count": 295,
   "id": "849a7f61",
   "metadata": {},
   "outputs": [],
   "source": [
    "implement_fun_for_matrix(center_ceil_val, \"center\")"
   ]
  },
  {
   "cell_type": "markdown",
   "id": "f087d340",
   "metadata": {},
   "source": [
    "size = 128, $δ = $ 0.3, iter = 500000, temp_start = 1"
   ]
  },
  {
   "cell_type": "markdown",
   "id": "f8c28913",
   "metadata": {},
   "source": [
    "![alt text](zad2_images/images/center/center_128x128_0.3_500000t1.png.png)"
   ]
  },
  {
   "cell_type": "markdown",
   "id": "2aa294b6",
   "metadata": {},
   "source": [
    "size = 256, $δ = $ 0.3, iter = 500000, temp_start = 1"
   ]
  },
  {
   "cell_type": "markdown",
   "id": "b9ba6b71",
   "metadata": {},
   "source": [
    "![alt text](zad2_images/images/center/center_256x256_0.3_500000t1.png.png)"
   ]
  },
  {
   "cell_type": "markdown",
   "id": "285bb4a9",
   "metadata": {},
   "source": [
    "size = 1024, $δ = $ 0.1, iter = 500000, temp_start = 1"
   ]
  },
  {
   "cell_type": "markdown",
   "id": "d3949adb",
   "metadata": {},
   "source": [
    "![alt text](zad2_images/images/center/center_1024x1024_0.1_500000t1.png.png)"
   ]
  },
  {
   "cell_type": "markdown",
   "id": "ac513c4a",
   "metadata": {},
   "source": [
    "Jak widać na powyższych ilustracjach, na wierzchołkach i krawędziach obrazu tworzy się wyraźne zagęszczenie czarnych punktów. To zjawisko jest wynikiem wprowadzonej zasady, która penalizuje obecność czarnych punktów w centralnych częściach obrazu, kierując je ku brzegom."
   ]
  },
  {
   "cell_type": "markdown",
   "id": "e0713d3e",
   "metadata": {},
   "source": [
    "### 8. 8 pasów"
   ]
  },
  {
   "cell_type": "markdown",
   "id": "6fbcdade",
   "metadata": {},
   "source": [
    "Funkcja ma na celu podział punktów na osiem poziomych obszarów na mapie, przypisując je do odpowiednich kategorii w zależności od ich pozycji wzdłuż osi poziomej. "
   ]
  },
  {
   "cell_type": "code",
   "execution_count": null,
   "id": "71042dc4",
   "metadata": {},
   "outputs": [],
   "source": [
    "def eight_streaks_cell_value(M, x, y, val):\n",
    "    n = len(M)\n",
    "    kw = n//8\n",
    "    if (x<kw or 2*kw<x<3*kw or 4*kw<x<5*kw or 6*kw<x<7*kw):\n",
    "        if val == 1:\n",
    "            return 1\n",
    "    else:\n",
    "        if val == 0:\n",
    "            return 1\n",
    "    return 0"
   ]
  },
  {
   "cell_type": "markdown",
   "id": "12fb1e38",
   "metadata": {},
   "source": [
    "Wizualizacje i gify"
   ]
  },
  {
   "cell_type": "code",
   "execution_count": null,
   "id": "e2104f6f",
   "metadata": {},
   "outputs": [],
   "source": [
    "implement_fun_for_matrix(eight_streaks_cell_value, \"streaks\")"
   ]
  },
  {
   "cell_type": "markdown",
   "id": "f1212b43",
   "metadata": {},
   "source": [
    "size = 128, $δ = $ 0.4, iter = 500000, temp_start = 1"
   ]
  },
  {
   "cell_type": "markdown",
   "id": "2a0bd691",
   "metadata": {},
   "source": [
    "![alt text](zad2_images/images/streaks/streaks_128x128_0.4_500000t1.png.png)\n"
   ]
  },
  {
   "cell_type": "markdown",
   "id": "597ae817",
   "metadata": {},
   "source": [
    "size = 256, $δ = $ 0.4, iter = 500000, temp_start = 1"
   ]
  },
  {
   "cell_type": "markdown",
   "id": "258b97b7",
   "metadata": {},
   "source": [
    "![alt text](zad2_images/images/streaks/streaks_256x256_0.4_500000t1.png.png)"
   ]
  },
  {
   "cell_type": "markdown",
   "id": "52c2d13a",
   "metadata": {},
   "source": [
    "size = 1024, $δ = $ 0.4, iter = 500000, temp_start = 1"
   ]
  },
  {
   "cell_type": "markdown",
   "id": "8478ac4a",
   "metadata": {},
   "source": [
    "![alt text](zad2_images/images/streaks/streaks_1024x1024_0.4_500000t1.png.png)"
   ]
  },
  {
   "cell_type": "markdown",
   "id": "265ec204",
   "metadata": {},
   "source": [
    "Jak widać powyżej, na obrazach wyraźnie widoczne są pasy, które wynikają z zastosowanego podziału na poziome obszary."
   ]
  },
  {
   "cell_type": "markdown",
   "id": "4e67d676",
   "metadata": {},
   "source": [
    "### 9. Big chess"
   ]
  },
  {
   "cell_type": "markdown",
   "id": "c7064446",
   "metadata": {},
   "source": [
    "Funkcja ma na celu podzielenie obszaru na mniejsze podobszary, które będą tworzyć strukturę przypominającą dużą szachownicę."
   ]
  },
  {
   "cell_type": "code",
   "execution_count": null,
   "id": "f03d0388",
   "metadata": {},
   "outputs": [],
   "source": [
    "# 8 pasów\n",
    "def get_value_like_matrix_bigchess(M, x, y, val):\n",
    "    n = len(M)\n",
    "    kw = n//8\n",
    "    if (x<kw or 2*kw<x<3*kw or 4*kw<x<5*kw or 6*kw<x<7*kw)/\n",
    "    and (y<kw or 2*kw<y<3*kw or 4*kw<y<5*kw or 6*kw<y<7*kw):\n",
    "        if val == 1:\n",
    "            return 1\n",
    "    else:\n",
    "        if val == 0:\n",
    "            return 1\n",
    "    return 0"
   ]
  },
  {
   "cell_type": "markdown",
   "id": "fd928cac",
   "metadata": {},
   "source": [
    "Wizualizacje i gify"
   ]
  },
  {
   "cell_type": "code",
   "execution_count": null,
   "id": "0b159302",
   "metadata": {},
   "outputs": [],
   "source": [
    "implement_fun_for_matrix(get_value_like_matrix_bigchess, \"big_chess\")"
   ]
  },
  {
   "cell_type": "markdown",
   "id": "68ae6638",
   "metadata": {},
   "source": [
    "size = 128, $δ = $ 0.3, iter = 500000, temp_start = 1"
   ]
  },
  {
   "cell_type": "markdown",
   "id": "6c851116",
   "metadata": {},
   "source": [
    "![alt text](zad2_images/images/big_chess/big_chess_128x128_0.3_500000t1.png.png)"
   ]
  },
  {
   "cell_type": "markdown",
   "id": "3cbaba7f",
   "metadata": {},
   "source": [
    "size = 256, $δ = $ 0.1, iter = 500000, temp_start = 1"
   ]
  },
  {
   "cell_type": "markdown",
   "id": "686673ac",
   "metadata": {},
   "source": [
    "![alt text](zad2_images/images/big_chess/big_chess_256x256_0.1_500000t1.png.png)"
   ]
  },
  {
   "cell_type": "markdown",
   "id": "a5e2b4d9",
   "metadata": {},
   "source": [
    "size = 1024, $δ = $ 0.3, iter = 500000, temp_start = 1"
   ]
  },
  {
   "cell_type": "markdown",
   "id": "cf3febac",
   "metadata": {},
   "source": [
    "![alt text](zad2_images/images/big_chess/big_chess_1024x1024_0.3_500000t1.png.png)"
   ]
  },
  {
   "cell_type": "markdown",
   "id": "bd5da691",
   "metadata": {},
   "source": [
    "Układ szachownicy jest widoczny na każdym rozmiarze obrazu."
   ]
  },
  {
   "cell_type": "markdown",
   "id": "d6fd2b5a",
   "metadata": {},
   "source": [
    "## Dodatkowy czerwony kolor"
   ]
  },
  {
   "cell_type": "markdown",
   "id": "bb968de6",
   "metadata": {},
   "source": [
    "### Modyfikacja poprzednich funkcji wizualizujących wyniki\n",
    "\n",
    "W celu wprowadzenia dodatkowego koloru potrzebna jest lekka modyfikacja poniższych funkcji"
   ]
  },
  {
   "cell_type": "code",
   "execution_count": null,
   "id": "e41e8256",
   "metadata": {},
   "outputs": [],
   "source": [
    "\n",
    "def create_image_from_array(matrix):\n",
    "    h, w = matrix.shape\n",
    "    img = np.zeros((h, w, 3), dtype=np.uint8)  # 3 kanały: RGB\n",
    "    img[matrix == 0] = [255, 255, 255]  # białe tło\n",
    "    img[matrix == 1] = [0, 0, 0]        # czarne punkty\n",
    "    img[matrix == 2] = [255, 0, 0]      # czerwony\n",
    "    return Image.fromarray(img, mode='RGB')"
   ]
  },
  {
   "cell_type": "code",
   "execution_count": null,
   "id": "adf55b17",
   "metadata": {},
   "outputs": [],
   "source": [
    "def draw_plot(matrix, path=None, folder_name=''):\n",
    "    n = len(matrix)\n",
    "    img = Image.new('RGB', (n, n))  # RGB - kolorowy obraz\n",
    "\n",
    "    pixels = img.load()\n",
    "    for i in range(n):\n",
    "        for j in range(n):\n",
    "            val = matrix[i, j]\n",
    "            if val == 0:\n",
    "                color = (255, 255, 255)  # biały\n",
    "            elif val == 1:\n",
    "                color = (0, 0, 0)        # czarny\n",
    "            elif val == 2:\n",
    "                color = (255, 0, 0)      # czerwony\n",
    "            else:\n",
    "                color = (128, 128, 128)  # kolor awaryjny dla nieznanych wartości\n",
    "            pixels[j, i] = color\n",
    "\n",
    "    # Upewnij się, że folder istnieje\n",
    "    output_path = f\"zad2_images/images/{folder_name}\"\n",
    "    # Zapisz obraz\n",
    "    img.save(f\"{output_path}/{path}.png\")"
   ]
  },
  {
   "cell_type": "code",
   "execution_count": null,
   "id": "0d611496",
   "metadata": {},
   "outputs": [],
   "source": [
    "def extend_gif(matrix,images):\n",
    "    n = len(matrix)\n",
    "    img = Image.new('RGB', (n, n))  # RGB - kolorowy obraz\n",
    "\n",
    "    pixels = img.load()\n",
    "    for i in range(n):\n",
    "        for j in range(n):\n",
    "            val = matrix[i, j]\n",
    "            if val == 1:\n",
    "                color = (255, 255, 255)  # biały\n",
    "            elif val == 0:\n",
    "                color = (0, 0, 0)        # czarny\n",
    "            elif val == 2:\n",
    "                color = (255, 0, 0)      # czerwony\n",
    "            else:\n",
    "                color = (128, 128, 128)  # kolor awaryjny dla nieznanych wartości\n",
    "            pixels[j, i] = color\n",
    "            \n",
    "    images.append(img) # 0 to biały, 1 to czarny\n",
    "    return images"
   ]
  },
  {
   "cell_type": "markdown",
   "id": "3741a9a2",
   "metadata": {},
   "source": [
    "### Funkcja kosztu"
   ]
  },
  {
   "cell_type": "markdown",
   "id": "01b128c7",
   "metadata": {},
   "source": [
    "Wprowadzam funkcję kosztu, którą można streścić jako „czarne lubią czerwone”. Funkcja ta bierze pod uwagę sąsiedztwo w obrębie trzech jednostek w metryce maksimum, premiując układy, w których czarne punkty znajdują się w pobliżu czerwonych. "
   ]
  },
  {
   "cell_type": "code",
   "execution_count": null,
   "id": "1ebe4a19",
   "metadata": {},
   "outputs": [],
   "source": [
    "def get_black_like_red(M, x, y, val):\n",
    "    # kolory lubią być koło swoich\n",
    "    n = len(M)\n",
    "    total = 0\n",
    "    for dx in [-3, 0, 3]:\n",
    "        for dy in [-3, 0, 3]:\n",
    "            if dx == 0 and dy == 0:\n",
    "                continue  # pomijamy środek\n",
    "            nx, ny = x + dx, y + dy\n",
    "            if 0 <= nx < n and 0 <= ny < n:\n",
    "                if M[nx][ny] == 2 and val ==1:\n",
    "                    total += 1\n",
    "                if M[nx][ny] == 1 and val ==2:\n",
    "                    total += 1\n",
    "    return total\n"
   ]
  },
  {
   "cell_type": "markdown",
   "id": "8e3e1b57",
   "metadata": {},
   "source": [
    "Wizualizacje i gify"
   ]
  },
  {
   "cell_type": "code",
   "execution_count": null,
   "id": "5aebd1d4",
   "metadata": {},
   "outputs": [],
   "source": [
    "def implement_fun_for_matrix_red(fun_to_optymalize, name):\n",
    "    t_delta = [0.1,0.3,0.4]\n",
    "    t_iter = [500000]\n",
    "    t_size = [128,256,512,1024]\n",
    "   \n",
    "    for iter in t_iter:\n",
    "            for delta in t_delta:\n",
    "                for size in t_size:\n",
    "                    old_array = np.random.choice([0, 1, 2], size=(size//2, size//2), p=[delta, 1-delta-0.03,0.03])\n",
    "                    new_array = np.random.choice([0, 1], size=(size, size), p=[delta, 1 - delta])\n",
    "                    new_array[size//4:3*size//4, size//4:3*size//4] = old_array\n",
    "                    matrix, t, _ = create_cristal(new_array ,\n",
    "                                    fun_to_optymalize,\n",
    "                                    1,\n",
    "                                    iter,\n",
    "                                    min_heat=1e-18,\n",
    "                                    fun_change_par=0.99999,\n",
    "                                    \n",
    "                                    gif_name=f\"{name}/{name}_{size}x{size}_{delta}_{iter}\")\n",
    "                    draw_linear_plot(t,f\"{name}_{size}x{size}_{delta}_{iter}\",name)\n",
    "                    draw_plot(matrix,f\"{name}_{size}x{size}_{delta}_{iter}.png\",name)\n",
    "       \n",
    "implement_fun_for_matrix_red(get_black_like_red, \"red_like\")"
   ]
  },
  {
   "cell_type": "markdown",
   "id": "9b66c541",
   "metadata": {},
   "source": [
    "size = 128, $δ = $ 0.1, iter = 500000, temp_start = 1"
   ]
  },
  {
   "cell_type": "markdown",
   "id": "ead8cdb5",
   "metadata": {},
   "source": [
    "![alt text](zad2_images/images/red_like/red_like_128x128_0.1_500000.png.png)"
   ]
  },
  {
   "cell_type": "markdown",
   "id": "6132183a",
   "metadata": {},
   "source": [
    "size = 256, $δ = $ 0.1, iter = 500000, temp_start = 1"
   ]
  },
  {
   "cell_type": "markdown",
   "id": "565a6d1d",
   "metadata": {},
   "source": [
    "![alt text](zad2_images/images/red_like/red_like_256x256_0.1_500000.png.png)"
   ]
  },
  {
   "cell_type": "markdown",
   "id": "d7528b7d",
   "metadata": {},
   "source": [
    "size = 512, $δ = $ 0.1, iter = 500000, temp_start = 1"
   ]
  },
  {
   "cell_type": "markdown",
   "id": "0543af5a",
   "metadata": {},
   "source": [
    "![alt text](zad2_images/images/red_like/red_like_512x512_0.1_500000.png.png)"
   ]
  },
  {
   "cell_type": "markdown",
   "id": "63fd6d78",
   "metadata": {},
   "source": [
    "Widzimy, że tworzą się skupiska wokół statycznych czerwonych punktów"
   ]
  },
  {
   "cell_type": "markdown",
   "id": "cbdff978",
   "metadata": {},
   "source": [
    "# Analiza wyników dla róznych parametrów"
   ]
  },
  {
   "cell_type": "markdown",
   "id": "8eb45b24",
   "metadata": {},
   "source": [
    "Przetestowałem generowanie funkcji dla różnej wartości początkowej temperatury. Jest to parametr, który najmocniej wpływa na sposób generowania oraz najłatwiej będzie go omówić"
   ]
  },
  {
   "cell_type": "markdown",
   "id": "5746fb87",
   "metadata": {},
   "source": [
    "Przykładowe obraz dla temp_start = 1"
   ]
  },
  {
   "cell_type": "markdown",
   "id": "dba855f2",
   "metadata": {},
   "source": [
    "Chess, size = 128, $δ = $ 0.4, iter = 100000"
   ]
  },
  {
   "cell_type": "markdown",
   "id": "545c10e9",
   "metadata": {},
   "source": [
    "![alt text](zad2_images/images/chess/chess_128x128_0.4_100000t1.png.png)"
   ]
  },
  {
   "cell_type": "markdown",
   "id": "cc87661b",
   "metadata": {},
   "source": [
    "big_chess, size = 512, $δ = $ 0.6, iter = 100000"
   ]
  },
  {
   "cell_type": "markdown",
   "id": "443eda86",
   "metadata": {},
   "source": [
    "![alt text](zad2_images/images/big_chess/big_chess_512x512_0.6_100000t1.png.png)"
   ]
  },
  {
   "cell_type": "markdown",
   "id": "e020edc9",
   "metadata": {},
   "source": [
    "#### Obrazy dla temp_start = 30"
   ]
  },
  {
   "cell_type": "markdown",
   "id": "dba7d04c",
   "metadata": {},
   "source": [
    "Chess, size = 128, $δ = $ 0.4, iter = 100000"
   ]
  },
  {
   "cell_type": "markdown",
   "id": "32cc3026",
   "metadata": {},
   "source": [
    "![alt text](zad2_images/images/chess/chess_128x128_0.4_100000t30.png.png)"
   ]
  },
  {
   "cell_type": "markdown",
   "id": "b7acf9e3",
   "metadata": {},
   "source": [
    "big_chess, size = 512, $δ = $ 0.6, iter = 100000"
   ]
  },
  {
   "cell_type": "markdown",
   "id": "eb0ab38c",
   "metadata": {},
   "source": [
    "![alt text](zad2_images/images/big_chess/big_chess_512x512_0.6_100000t30.png.png)"
   ]
  },
  {
   "cell_type": "markdown",
   "id": "b6371154",
   "metadata": {},
   "source": [
    "Po przeanalizowaniu wygenerowanych materiałów można stwierdzić, że wysoka temperatura wprowadza znaczące zaszumienie do obrazu. Patterny i struktury, które są wyraźnie widoczne przy niższej temperaturze, stają się praktycznie niezauważalne i rozmywają się w chaosie szumu przy wyższych wartościach temperatury."
   ]
  },
  {
   "cell_type": "markdown",
   "id": "a467ee30",
   "metadata": {},
   "source": [
    "Ale jest jedna struktura, której jakość nie pogorszyła się wraz z dużym wzrostem temperatury początkowej. Jest nią struktura Center"
   ]
  },
  {
   "cell_type": "markdown",
   "id": "fa5d24ff",
   "metadata": {},
   "source": [
    "Przykładowe obraz dla temp_start = 1"
   ]
  },
  {
   "cell_type": "markdown",
   "id": "16735702",
   "metadata": {},
   "source": [
    "Center, size = 256, $δ = $ 0.1, iter = 100000"
   ]
  },
  {
   "cell_type": "markdown",
   "id": "7e7000d5",
   "metadata": {},
   "source": [
    "![alt text](zad2_images/images/center/center_256x256_0.1_100000t1.png.png)"
   ]
  },
  {
   "cell_type": "markdown",
   "id": "88114f64",
   "metadata": {},
   "source": [
    "Obrazy dla temp_start = 30"
   ]
  },
  {
   "cell_type": "markdown",
   "id": "c2655d58",
   "metadata": {},
   "source": [
    "Center, size = 256, $δ = $ 0.1, iter = 100000"
   ]
  },
  {
   "cell_type": "markdown",
   "id": "99f34dbb",
   "metadata": {},
   "source": [
    "![alt text](zad2_images/images/center/center_256x256_0.1_100000t30.png.png)"
   ]
  },
  {
   "cell_type": "markdown",
   "id": "4044d2bb",
   "metadata": {},
   "source": [
    "Oba obrazy są do siebie bardzo podobne, z drobną przewagą obrazu uzyskanego przy temp_start = 1, biorąc pod uwagę liczbę pojedynczych elementów w centrum. W tym przypadku zaszumienie nie wpłynęło negatywnie na obraz, a wręcz dodało mu pewnego kolorytu, wzbogacając całość o interesujące detale."
   ]
  },
  {
   "cell_type": "markdown",
   "id": "83ca24f7",
   "metadata": {},
   "source": [
    "# Wykresy funkcji optymalizowanych"
   ]
  },
  {
   "cell_type": "markdown",
   "id": "c693f5c4",
   "metadata": {},
   "source": [
    "Przygladnijmy się wykresom funkcji optymalizowanych"
   ]
  },
  {
   "cell_type": "markdown",
   "id": "359fdd87",
   "metadata": {},
   "source": [
    "Widać dwie wyraźne tendencje:\n",
    "\n",
    "- Dla wysokiej temperatury, funkcja optymalizowana przyjmuje bardzo nieregularny przebieg, co może wskazywać na większą podatność na szum i brak stabilności w procesie optymalizacji.\n",
    "\n",
    "- Dla niskiej temperatury, wykres staje się bardziej gładki, co sugeruje, że algorytm koncentruje się na bardziej stabilnych i precyzyjnych rozwiązaniach, jednak może również utknąć w lokalnych minimach, przez co optymalizacja staje się mniej dynamiczna."
   ]
  },
  {
   "cell_type": "markdown",
   "id": "9af6a474",
   "metadata": {},
   "source": [
    "Dodatkowo, można zauważyć, że im mniejsza mapa, tym wykres staje się bardziej chaotyczny. W przypadku mniejszych przestrzeni optymalizacyjnych, algorytm może napotkać większe trudności w znajdowaniu stabilnych rozwiązań, co prowadzi do bardziej losowych i nieregularnych wyników, zanim osiągnie bardziej jednolity stan w miarę zmniejszania temperatury."
   ]
  },
  {
   "cell_type": "markdown",
   "id": "646c83c9",
   "metadata": {},
   "source": [
    "Porównanie wykresów dla różnych temperatur:"
   ]
  },
  {
   "cell_type": "markdown",
   "id": "fb743bc6",
   "metadata": {},
   "source": [
    "![alt text](zad2_images/plots/8_neighborhood/8_neighborhood_128x128_0.1_100000t30.png)"
   ]
  },
  {
   "cell_type": "markdown",
   "id": "5f6a032e",
   "metadata": {},
   "source": [
    "![alt text](zad2_images/plots/8_neighborhood/8_neighborhood_128x128_0.1_100000t1.png)"
   ]
  },
  {
   "cell_type": "markdown",
   "id": "546c8ac1",
   "metadata": {},
   "source": [
    "Porównanie dla wzrastających wymiarów obrazu"
   ]
  },
  {
   "cell_type": "markdown",
   "id": "e49af20d",
   "metadata": {},
   "source": [
    "![alt text](zad2_images/plots/8_neighborhood/8_neighborhood_128x128_0.1_100000t30.png)"
   ]
  },
  {
   "cell_type": "markdown",
   "id": "7f5f0840",
   "metadata": {},
   "source": [
    "![alt text](zad2_images/plots/8_neighborhood/8_neighborhood_256x256_0.1_100000t30.png)"
   ]
  },
  {
   "cell_type": "markdown",
   "id": "aef31b7e",
   "metadata": {},
   "source": [
    "![alt text](zad2_images/plots/8_neighborhood/8_neighborhood_512x512_0.1_100000t30.png)"
   ]
  },
  {
   "cell_type": "markdown",
   "id": "37cfad92",
   "metadata": {},
   "source": [
    "![alt text](zad2_images/plots/8_neighborhood/8_neighborhood_1024x1024_0.1_100000t30.png)"
   ]
  },
  {
   "cell_type": "markdown",
   "id": "b25c8fa5",
   "metadata": {},
   "source": [
    "Wraz ze wzrostem wielkości obrazka, zmienność zanika"
   ]
  },
  {
   "cell_type": "markdown",
   "id": "ae958e53",
   "metadata": {},
   "source": [
    "Jedynym odstępstwem od tej zasady jest ponownie wykres funkcji dla _center_, który we wszystkich warunkach przyjmuje ten sam charakterystyczny kształt:"
   ]
  },
  {
   "cell_type": "markdown",
   "id": "cbe865a6",
   "metadata": {},
   "source": [
    "![alt text](zad2_images/plots/center/center_512x512_0.3_500000t1.png)"
   ]
  },
  {
   "cell_type": "markdown",
   "id": "155c31c3",
   "metadata": {},
   "source": [
    "# Podsumowanie"
   ]
  },
  {
   "cell_type": "markdown",
   "id": "3bfd096d",
   "metadata": {},
   "source": [
    "- Algorytm wyżarzania okazał się niezwykle skutecznym narzędziem do generowania struktur przypominających kryształy.\n",
    "\n",
    "- Najlepsze rezultaty osiągnięto przy zastosowaniu wykładniczej funkcji temperatury.\n",
    "\n",
    "- Dzięki wykorzystaniu różnych funkcji optymalizacyjnych udało się uzyskać interesujące i zróżnicowane obrazy.\n",
    "\n",
    "- Niestabilność wynikająca z wysokiej temperatury początkowej została zniwelowana przez rosnące wymiary obrazów.\n",
    "\n",
    "- Wysoka temperatura początkowa w wielu przypadkach prowadziła do powstania dużego chaosu w obrazie, który ostatecznie zamieniał się w zwykły szum.\n",
    "\n",
    "- Dla obrazów typu center, zwiększona temperatura początkowa wprowadzała jedynie niewielki poziom szumu, w przeciwieństwie do pozostałych wzorców.\n",
    "\n"
   ]
  }
 ],
 "metadata": {
  "kernelspec": {
   "display_name": "Python 3",
   "language": "python",
   "name": "python3"
  },
  "language_info": {
   "codemirror_mode": {
    "name": "ipython",
    "version": 3
   },
   "file_extension": ".py",
   "mimetype": "text/x-python",
   "name": "python",
   "nbconvert_exporter": "python",
   "pygments_lexer": "ipython3",
   "version": "3.9.13"
  }
 },
 "nbformat": 4,
 "nbformat_minor": 5
}
